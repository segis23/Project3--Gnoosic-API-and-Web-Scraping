{
 "cells": [
  {
   "cell_type": "code",
   "execution_count": 1,
   "metadata": {},
   "outputs": [],
   "source": [
    "import spotipy\n",
    "from spotipy.oauth2 import SpotifyClientCredentials\n",
    "import pandas as pd"
   ]
  },
  {
   "cell_type": "code",
   "execution_count": 2,
   "metadata": {},
   "outputs": [],
   "source": [
    "spotify = spotipy.Spotify(client_credentials_manager=SpotifyClientCredentials(\n",
    "    client_id= \"500515c03891496488a32eb11a3b9d40\",\n",
    "    client_secret= \"f1622fd3830c4ec4ba36959e00ae4f8f\"))"
   ]
  },
  {
   "cell_type": "code",
   "execution_count": 3,
   "metadata": {},
   "outputs": [],
   "source": [
    "playlist_id = spotify.user_playlist_tracks(\"spotify\", \"spotify:playlist:37i9dQZF1DWWRktbhJiuqL\")"
   ]
  },
  {
   "cell_type": "code",
   "execution_count": 4,
   "metadata": {},
   "outputs": [],
   "source": [
    "#for loop to extract every artist from the playlist\n",
    "playlist_artists = []\n",
    "\n",
    "for item in playlist_id[\"items\"]:\n",
    "    for artist in item[\"track\"][\"artists\"]:\n",
    "        playlist_artists.append(artist[\"uri\"])\n",
    "\n",
    "# Extract each album \"uri\" from artists        \n",
    "albums = []\n",
    "\n",
    "for artist in playlist_artists:\n",
    "    albums.append(spotify.artist_albums(artist))\n",
    "\n",
    "playlist_albums = []\n",
    "\n",
    "for album in albums:\n",
    "    for item in album[\"items\"]:\n",
    "        playlist_albums.append(item[\"uri\"])\n",
    "\n",
    "# Get each song \"uri\" from album\n",
    "songs = []\n",
    "\n",
    "for album in playlist_albums:\n",
    "    songs.append(spotify.album_tracks(album))\n",
    "\n",
    "playlist_songs = []\n",
    "\n",
    "for song in songs:\n",
    "    for track in song[\"items\"]:\n",
    "        playlist_songs.append(track[\"uri\"])"
   ]
  },
  {
   "cell_type": "code",
   "execution_count": 5,
   "metadata": {},
   "outputs": [],
   "source": [
    "def spoty_songs(song_id):\n",
    "  details = spotify.track(song_id)\n",
    "  features = spotify.audio_features(song_id)\n",
    "\n",
    "  # Retrieve each song detail such as name, artist, album...\n",
    "  name = details['name']\n",
    "  album = details['album']['name']\n",
    "  artist = details['album']['artists'][0]['name']\n",
    "  uri = details['uri']  \n",
    "  release_date = details['album']['release_date']\n",
    "  length = details['duration_ms']\n",
    "  popularity = details['popularity']\n",
    "\n",
    "  # Get each audio feature \n",
    "  acousticness = features[0]['acousticness']\n",
    "  danceability = features[0]['danceability']\n",
    "  energy = features[0]['energy']\n",
    "  instrumentalness = features[0]['instrumentalness']\n",
    "  liveness = features[0]['liveness']\n",
    "  loudness = features[0]['loudness']\n",
    "  speechiness = features[0]['speechiness']\n",
    "  tempo = features[0]['tempo']\n",
    "  time_signature = features[0]['time_signature']\n",
    "\n",
    "  track = [name, album, artist, uri, release_date, length, popularity, danceability, acousticness, energy, instrumentalness, liveness, loudness, speechiness, tempo, time_signature]\n",
    "  return track"
   ]
  },
  {
   "cell_type": "code",
   "execution_count": null,
   "metadata": {},
   "outputs": [],
   "source": [
    "# For loop for each song id and store each iteration in a empty list \n",
    "tracks = []\n",
    "for i in range(len(playlist_songs)):\n",
    "  track = spoty_songs(playlist_songs[i])\n",
    "  tracks.append(track)"
   ]
  },
  {
   "cell_type": "code",
   "execution_count": null,
   "metadata": {},
   "outputs": [],
   "source": [
    "rock = pd.DataFrame(tracks, columns = ['name', 'album', 'artist', 'uri', 'release_date', 'length', 'popularity', 'danceability', 'acousticness', 'energy', 'instrumentalness', 'liveness', 'loudness', 'speechiness', 'tempo', 'time_signature'])\n",
    "rock.to_csv(\"../PROJECTS/Project3/rock.csv\")\n"
   ]
  },
  {
   "cell_type": "code",
   "execution_count": null,
   "metadata": {},
   "outputs": [],
   "source": []
  }
 ],
 "metadata": {
  "kernelspec": {
   "display_name": "Python 3",
   "language": "python",
   "name": "python3"
  },
  "language_info": {
   "codemirror_mode": {
    "name": "ipython",
    "version": 3
   },
   "file_extension": ".py",
   "mimetype": "text/x-python",
   "name": "python",
   "nbconvert_exporter": "python",
   "pygments_lexer": "ipython3",
   "version": "3.8.5"
  }
 },
 "nbformat": 4,
 "nbformat_minor": 4
}
